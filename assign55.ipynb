{
 "cells": [
  {
   "cell_type": "code",
   "execution_count": 7,
   "metadata": {},
   "outputs": [
    {
     "name": "stdout",
     "output_type": "stream",
     "text": [
      "int32\n"
     ]
    }
   ],
   "source": [
    "#students_age in years\n",
    "import numpy as np\n",
    "age=[20, 27, 21, 23, 19, 24, 21, 19, 19, 22, 25, 27, 21, 19, 21, 21, 20, 23, 20, 20]\n",
    "#creating an array for age\n",
    "age_array= np.array([20, 27, 21, 23, 19, 24, 21, 19, 19, 22, 25, 27, 21, 19, 21, 21, 20, 23, 20, 20])\n",
    "print(age_array.dtype)"
   ]
  },
  {
   "cell_type": "code",
   "execution_count": 2,
   "metadata": {},
   "outputs": [
    {
     "name": "stdout",
     "output_type": "stream",
     "text": [
      "int32\n"
     ]
    }
   ],
   "source": [
    "#students_weight in kilograms(kgs)\n",
    "weight=[74, 47, 54, 30, 59, 65, 69, 57, 55, 78, 60, 80, 58, 50, 50, 50, 49, 70, 62, 55]\n",
    "weight_array= np.array([74, 47, 54, 30, 59, 65, 69, 57, 55, 78, 60, 80, 58, 50, 50, 50, 49, 70, 62, 55])\n",
    "print(weight_array.dtype)"
   ]
  },
  {
   "cell_type": "code",
   "execution_count": 3,
   "metadata": {},
   "outputs": [
    {
     "name": "stdout",
     "output_type": "stream",
     "text": [
      "float64\n"
     ]
    }
   ],
   "source": [
    "#students_height in centimeters(cm)\n",
    "height=[177.80, 157.48, 210.82, 187.96, 175.26, 157.48, 167.64]\n",
    "height_array= np.array([177.80, 157.48, 210.82, 187.96, 175.26, 157.48, 167.64])\n",
    "print(height_array.dtype)"
   ]
  },
  {
   "cell_type": "code",
   "execution_count": 4,
   "metadata": {},
   "outputs": [
    {
     "name": "stdout",
     "output_type": "stream",
     "text": [
      "21.6\n"
     ]
    }
   ],
   "source": [
    "#find the mean of the arrays\n",
    "#mean is the average of all data vales\n",
    "import numpy as np\n",
    "age_array = ([20, 27, 21, 23, 19, 24, 21, 19, 19, 22, 25, 27, 21, 19, 21, 21, 20, 23, 20, 20])\n",
    "Average_age_array = np.mean(age_array)\n",
    "print(Average_age_array)"
   ]
  },
  {
   "cell_type": "code",
   "execution_count": 5,
   "metadata": {},
   "outputs": [
    {
     "name": "stdout",
     "output_type": "stream",
     "text": [
      "58.6\n"
     ]
    }
   ],
   "source": [
    "weight_array = ([74, 47, 54, 30, 59, 65, 69, 57, 55, 78, 60, 80, 58, 50, 50, 50, 49, 70, 62, 55])\n",
    "Average_weight_array = np.mean(weight_array)\n",
    "print(Average_weight_array)"
   ]
  },
  {
   "cell_type": "code",
   "execution_count": 6,
   "metadata": {},
   "outputs": [
    {
     "name": "stdout",
     "output_type": "stream",
     "text": [
      "176.34857142857143\n"
     ]
    }
   ],
   "source": [
    "height_array = ([177.80, 157.48, 210.82, 187.96, 175.26, 157.48, 167.64])\n",
    "Average_height_array = np.mean(height_array)\n",
    "print(Average_height_array)"
   ]
  },
  {
   "cell_type": "code",
   "execution_count": 7,
   "metadata": {},
   "outputs": [
    {
     "name": "stdout",
     "output_type": "stream",
     "text": [
      "2.437211521390788\n"
     ]
    }
   ],
   "source": [
    "#find the standard deviation of the arrays\n",
    "#standard deviation show how values deviate\n",
    "import numpy as np\n",
    "age_std = np.std(age_array)\n",
    "print(age_std)"
   ]
  },
  {
   "cell_type": "code",
   "execution_count": 8,
   "metadata": {},
   "outputs": [
    {
     "name": "stdout",
     "output_type": "stream",
     "text": [
      "11.577564510725043\n"
     ]
    }
   ],
   "source": [
    "weight_std = np.std(weight_array)\n",
    "print(weight_std)"
   ]
  },
  {
   "cell_type": "code",
   "execution_count": 9,
   "metadata": {},
   "outputs": [
    {
     "name": "stdout",
     "output_type": "stream",
     "text": [
      "17.37930413580757\n"
     ]
    }
   ],
   "source": [
    "height_std = np.std(height_array)\n",
    "print(height_std)"
   ]
  },
  {
   "cell_type": "code",
   "execution_count": null,
   "metadata": {},
   "outputs": [],
   "source": [
    "#find the variance of the arrays\n",
    "#find the difference of each value from mean\n",
    "#for each difference find the square value\n",
    "#variance is the average number of the squared values(sum the squared values and find average )"
   ]
  },
  {
   "cell_type": "code",
   "execution_count": 9,
   "metadata": {},
   "outputs": [
    {
     "name": "stdout",
     "output_type": "stream",
     "text": [
      "5.9399999999999995\n"
     ]
    },
    {
     "ename": "NameError",
     "evalue": "name 'weight_variance' is not defined",
     "output_type": "error",
     "traceback": [
      "\u001b[1;31m---------------------------------------------------------------------------\u001b[0m",
      "\u001b[1;31mNameError\u001b[0m                                 Traceback (most recent call last)",
      "\u001b[1;32mc:\\Users\\DELL\\Desktop\\FORT RAVEN C 3\\Year One\\Semester one\\Introduction to Data Science and Machine learning\\assign55.ipynb Cell 11\u001b[0m line \u001b[0;36m5\n\u001b[0;32m      <a href='vscode-notebook-cell:/c%3A/Users/DELL/Desktop/FORT%20RAVEN%20C%203/Year%20One/Semester%20one/Introduction%20to%20Data%20Science%20and%20Machine%20learning/assign55.ipynb#X13sZmlsZQ%3D%3D?line=1'>2</a>\u001b[0m age_variance \u001b[39m=\u001b[39m np\u001b[39m.\u001b[39mvar(age_array)\n\u001b[0;32m      <a href='vscode-notebook-cell:/c%3A/Users/DELL/Desktop/FORT%20RAVEN%20C%203/Year%20One/Semester%20one/Introduction%20to%20Data%20Science%20and%20Machine%20learning/assign55.ipynb#X13sZmlsZQ%3D%3D?line=2'>3</a>\u001b[0m \u001b[39mprint\u001b[39m(age_variance)\n\u001b[1;32m----> <a href='vscode-notebook-cell:/c%3A/Users/DELL/Desktop/FORT%20RAVEN%20C%203/Year%20One/Semester%20one/Introduction%20to%20Data%20Science%20and%20Machine%20learning/assign55.ipynb#X13sZmlsZQ%3D%3D?line=4'>5</a>\u001b[0m weight_variance \u001b[39m=\u001b[39m np\u001b[39m.\u001b[39mvar(weight_variance)\n\u001b[0;32m      <a href='vscode-notebook-cell:/c%3A/Users/DELL/Desktop/FORT%20RAVEN%20C%203/Year%20One/Semester%20one/Introduction%20to%20Data%20Science%20and%20Machine%20learning/assign55.ipynb#X13sZmlsZQ%3D%3D?line=5'>6</a>\u001b[0m \u001b[39mprint\u001b[39m(weight_variance)\n\u001b[0;32m      <a href='vscode-notebook-cell:/c%3A/Users/DELL/Desktop/FORT%20RAVEN%20C%203/Year%20One/Semester%20one/Introduction%20to%20Data%20Science%20and%20Machine%20learning/assign55.ipynb#X13sZmlsZQ%3D%3D?line=7'>8</a>\u001b[0m height_variance \u001b[39m=\u001b[39m np\u001b[39m.\u001b[39mvar(height_array)\n",
      "\u001b[1;31mNameError\u001b[0m: name 'weight_variance' is not defined"
     ]
    }
   ],
   "source": [
    "import numpy as np\n",
    "age_variance = np.var(age_array)\n",
    "print(age_variance)\n",
    "\n",
    "weight_variance = np.var(weight_variance)\n",
    "print(weight_variance)\n",
    "\n",
    "height_variance = np.var(height_array)\n",
    "print(height_variance)\n"
   ]
  },
  {
   "cell_type": "code",
   "execution_count": null,
   "metadata": {},
   "outputs": [],
   "source": []
  }
 ],
 "metadata": {
  "kernelspec": {
   "display_name": "Python 3",
   "language": "python",
   "name": "python3"
  },
  "language_info": {
   "codemirror_mode": {
    "name": "ipython",
    "version": 3
   },
   "file_extension": ".py",
   "mimetype": "text/x-python",
   "name": "python",
   "nbconvert_exporter": "python",
   "pygments_lexer": "ipython3",
   "version": "3.11.4"
  },
  "orig_nbformat": 4
 },
 "nbformat": 4,
 "nbformat_minor": 2
}
